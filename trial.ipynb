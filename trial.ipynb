{
 "cells": [
  {
   "cell_type": "code",
   "execution_count": null,
   "metadata": {},
   "outputs": [],
   "source": [
    "def get_random_file(directory ,blacklist_file : list = ['.DS_Store']):\n",
    "    lst = []\n",
    "    for file_ in os.listdir(directory):\n",
    "        if file_ in blacklist_file:\n",
    "            continue\n",
    "        lst.append(file_)\n",
    "    \n",
    "    try:\n",
    "        chosen_file = random.choice(lst)\n",
    "    except IndexError:\n",
    "        raise ValueError('This directory does not contain any files, except file in blacklist')\n",
    "\n",
    "    return directory + '/' +chosen_file"
   ]
  },
  {
   "cell_type": "code",
   "execution_count": null,
   "metadata": {},
   "outputs": [],
   "source": []
  }
 ],
 "metadata": {
  "language_info": {
   "name": "python"
  },
  "orig_nbformat": 4
 },
 "nbformat": 4,
 "nbformat_minor": 2
}
